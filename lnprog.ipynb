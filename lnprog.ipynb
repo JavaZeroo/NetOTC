{
 "cells": [
  {
   "cell_type": "code",
   "execution_count": 16,
   "metadata": {},
   "outputs": [],
   "source": [
    "import numpy as np\n",
    "Aeq = np.load('Aeq.npy')\n",
    "beq = np.load('beq.npy')\n",
    "c = np.load('c.npy')\n",
    "\n",
    "matlab_result = np.array([0.0960, 0, 0.0784, 0, 0.0110, 0.0875, 0.0911, 0.0172, 0.0804, 0, 0.0233, 0.1085, 0, 0.1469, 0.0806, 0.0038, 0.0008, 0.0777, 0, 0.0969]).reshape((10, 2))\n",
    "\n"
   ]
  },
  {
   "cell_type": "code",
   "execution_count": 18,
   "metadata": {},
   "outputs": [],
   "source": [
    "from pulp import LpMinimize, LpProblem, LpVariable, lpSum, PULP_CBC_CMD\n",
    "\n",
    "# Define the LP problem\n",
    "prob = LpProblem(\"My_LP_Problem\", LpMinimize)\n",
    "\n",
    "# Define the decision variables\n",
    "x = [LpVariable(f\"x{i}\", lowBound=0) for i in range(len(c))]\n",
    "\n",
    "# Add the objective function\n",
    "prob += lpSum(c[i] * x[i] for i in range(len(c)))\n",
    "\n",
    "# Add the equality constraints\n",
    "for i in range(len(beq)):\n",
    "    prob += lpSum(Aeq[i][j] * x[j] for j in range(len(c))) == beq[i]\n",
    "\n",
    "# Solve the problem using CBC solver\n",
    "prob.solve(PULP_CBC_CMD(msg=False))\n",
    "\n",
    "# Get the results\n",
    "pulp_results = [var.varValue for var in x]\n",
    "\n",
    "# Calculate the Euclidean distance to the MATLAB result\n",
    "euclidean_distance_pulp = np.linalg.norm(np.array(pulp_results).reshape((10, 2)) - matlab_result)\n"
   ]
  },
  {
   "cell_type": "code",
   "execution_count": 20,
   "metadata": {},
   "outputs": [
    {
     "data": {
      "text/plain": [
       "array([[0.096 , 0.    ],\n",
       "       [0.0784, 0.    ],\n",
       "       [0.011 , 0.0875],\n",
       "       [0.0911, 0.0172],\n",
       "       [0.0804, 0.    ],\n",
       "       [0.0233, 0.1085],\n",
       "       [0.    , 0.1469],\n",
       "       [0.0806, 0.0038],\n",
       "       [0.0008, 0.0777],\n",
       "       [0.    , 0.0969]])"
      ]
     },
     "execution_count": 20,
     "metadata": {},
     "output_type": "execute_result"
    }
   ],
   "source": [
    "matlab_result"
   ]
  },
  {
   "cell_type": "code",
   "execution_count": 8,
   "metadata": {},
   "outputs": [],
   "source": []
  },
  {
   "cell_type": "code",
   "execution_count": 10,
   "metadata": {},
   "outputs": [
    {
     "name": "stdout",
     "output_type": "stream",
     "text": [
      "Gurobi Optimizer version 10.0.3 build v10.0.3rc0 (win64)\n",
      "\n",
      "CPU model: 13th Gen Intel(R) Core(TM) i9-13980HX, instruction set [SSE2|AVX|AVX2]\n",
      "Thread count: 24 physical cores, 32 logical processors, using up to 32 threads\n",
      "\n",
      "Optimize a model with 21 rows, 20 columns and 251 nonzeros\n",
      "Model fingerprint: 0xe1732f24\n",
      "Coefficient statistics:\n",
      "  Matrix range     [9e-04, 1e+00]\n",
      "  Objective range  [7e-03, 4e+00]\n",
      "  Bounds range     [0e+00, 0e+00]\n",
      "  RHS range        [1e+00, 1e+00]\n",
      "Presolve removed 7 rows and 6 columns\n",
      "Presolve time: 0.01s\n",
      "Presolved: 14 rows, 14 columns, 162 nonzeros\n",
      "\n",
      "Iteration    Objective       Primal Inf.    Dual Inf.      Time\n",
      "       0    6.9453800e-03   1.599033e+00   0.000000e+00      0s\n",
      "      13    7.2644785e-01   0.000000e+00   0.000000e+00      0s\n",
      "\n",
      "Solved in 13 iterations and 0.01 seconds (0.00 work units)\n",
      "Optimal objective  7.264478451e-01\n"
     ]
    }
   ],
   "source": [
    "from gurobipy import Model, GRB\n",
    "\n",
    "# Create a new model\n",
    "m = Model(\"mip1\")\n",
    "\n",
    "# Create variables\n",
    "x = m.addVars(len(c), lb=0, vtype=GRB.CONTINUOUS, name=\"x\")\n",
    "\n",
    "# Set objective\n",
    "obj = 0\n",
    "for i in range(len(c)):\n",
    "    obj += c[i] * x[i]\n",
    "m.setObjective(obj, GRB.MINIMIZE)\n",
    "\n",
    "# Add equality constraint\n",
    "for i in range(len(beq)):\n",
    "    constr = 0\n",
    "    for j in range(len(c)):\n",
    "        constr += Aeq[i, j] * x[j]\n",
    "    m.addConstr(constr == beq[i])\n",
    "\n",
    "\n",
    "# Optimize\n",
    "m.optimize()\n",
    "\n",
    "# Get the results\n",
    "gurobi_results = [x[i].x for i in range(len(c))]\n",
    "\n",
    "# Calculate the Euclidean distance to the MATLAB result\n",
    "euclidean_distance_gurobi = np.linalg.norm(np.array(gurobi_results) - matlab_result)\n"
   ]
  },
  {
   "cell_type": "code",
   "execution_count": 12,
   "metadata": {},
   "outputs": [
    {
     "data": {
      "text/plain": [
       "0.00010146152964871253"
      ]
     },
     "execution_count": 12,
     "metadata": {},
     "output_type": "execute_result"
    }
   ],
   "source": [
    "euclidean_distance_gurobi"
   ]
  }
 ],
 "metadata": {
  "kernelspec": {
   "display_name": "chaoxing",
   "language": "python",
   "name": "python3"
  },
  "language_info": {
   "codemirror_mode": {
    "name": "ipython",
    "version": 3
   },
   "file_extension": ".py",
   "mimetype": "text/x-python",
   "name": "python",
   "nbconvert_exporter": "python",
   "pygments_lexer": "ipython3",
   "version": "3.8.0"
  }
 },
 "nbformat": 4,
 "nbformat_minor": 2
}
